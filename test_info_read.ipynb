{
 "cells": [
  {
   "cell_type": "code",
   "execution_count": 1,
   "metadata": {},
   "outputs": [],
   "source": [
    "import numpy as np\n",
    "import os"
   ]
  },
  {
   "cell_type": "markdown",
   "metadata": {},
   "source": [
    "## Info file reader function"
   ]
  },
  {
   "cell_type": "code",
   "execution_count": 2,
   "metadata": {},
   "outputs": [],
   "source": [
    "def readNeaSpectrumNew(filename):\n",
    "    # reader tested for neascan version 2.1.10719.0\n",
    "    fid = open(filename,errors='replace')\n",
    "    spectrum = {}\n",
    "\n",
    "    linestring = ''\n",
    "    Nlines = 0\n",
    "\n",
    "    while 'Version:' not in linestring:\n",
    "        Nlines += 1\n",
    "        linestring = fid.readline()\n",
    "        if Nlines > 1:\n",
    "            ct = linestring.split('\\t')\n",
    "            fieldname = ct[0][2:-1]\n",
    "            fieldname = fieldname.replace(' ', '')\n",
    "\n",
    "            if 'Scanner Center Position' in linestring:\n",
    "                fieldname = fieldname[:-5]\n",
    "                spectrum[fieldname] = [float(ct[2]), float(ct[3])]\n",
    "\n",
    "            elif 'Scan Area' in linestring:\n",
    "                fieldname = fieldname[:-7]\n",
    "                spectrum[fieldname] = [float(ct[2]), float(ct[3]), float(ct[4])]\n",
    "\n",
    "            elif 'Pixel Area' in linestring:\n",
    "                fieldname = fieldname[:-7]\n",
    "                spectrum[fieldname] = [int(ct[2]), int(ct[3]), int(ct[4])]\n",
    "\n",
    "            elif 'Interferometer Center/Distance' in linestring:\n",
    "                fieldname = fieldname.replace('/', '')\n",
    "                spectrum[fieldname] = [float(ct[2]), float(ct[3])]\n",
    "\n",
    "            elif 'Regulator' in linestring:\n",
    "                fieldname = fieldname[:-7]\n",
    "                spectrum[fieldname] = [float(ct[2]), float(ct[3]), float(ct[4])]\n",
    "\n",
    "            elif 'Q-Factor' in linestring:\n",
    "                fieldname = fieldname.replace('-', '')\n",
    "                spectrum[fieldname] = float(ct[2])\n",
    "\n",
    "            else:\n",
    "                fieldname = ct[0][2:-1]\n",
    "                fieldname = fieldname.replace(' ', '')\n",
    "                val = ct[2]\n",
    "                val = val.replace(',','')\n",
    "                try:\n",
    "                    spectrum[fieldname] = float(val)\n",
    "                    print(fieldname)\n",
    "                except:\n",
    "                    spectrum[fieldname] = val.strip()\n",
    "\n",
    "    linestring = fid.readline()\n",
    "    channels = linestring.split('\\t')\n",
    "    Nlines += 1\n",
    "    fid.close()\n",
    "    return spectrum\n"
   ]
  },
  {
   "cell_type": "code",
   "execution_count": 3,
   "metadata": {},
   "outputs": [
    {
     "name": "stdout",
     "output_type": "stream",
     "text": [
      "c:\\Users\\NEMETHG\\OneDrive\\Python\\NeaReader\\testinfofile2.txt\n",
      "Rotation\n",
      "Averaging\n",
      "Integrationtime\n",
      "TargetWavelength\n",
      "TipFrequency\n",
      "TipAmplitude\n",
      "TappingAmplitude\n",
      "ModulationFrequency\n",
      "ModulationAmplitude\n",
      "ModulationOffset\n",
      "Setpoint\n",
      "TipPotential\n",
      "M1AScaling\n",
      "M1ACantileverFactor\n",
      "['Scan', 'Project', 'Description', 'Date', 'ScannerCenterPosition', 'Rotation', 'ScanArea', 'PixelArea', 'Averaging', 'Integrationtime', 'LaserSource', 'Detector', 'TargetWavelength', 'DemodulationMode', 'TipFrequency', 'TipAmplitude', 'TappingAmplitude', 'ModulationFrequency', 'ModulationAmplitude', 'ModulationOffset', 'Setpoint', 'Regulator', 'TipPotential', 'M1AScaling', 'M1ACantileverFactor', 'QFactor', 'MeasurementMode', 'Version']\n",
      "['2D (PsHet)', '2023.06.27. Nadia', '', '11/10/2023 11:04:44', [48.28, 45.4], 0.0, [10.0, 10.0, 0.0], [100, 100, 1], 1.0, 7.0, 'Tunable MIR laser (QCL)', 'MIR', 1130.0, 'PsHet', 258919.328, 70.0, 106.205, 302.513, 65464.973, 0.0, 79.74, [2.625196, 4.057867, 1.0], 0.0, 1.52, 1.0, 493.9, 'Self-Reference Off', '2.2.10875.0']\n"
     ]
    }
   ],
   "source": [
    "import os\n",
    "current_folder = os.getcwd()\n",
    "file_path = os.path.join(current_folder,'testinfofile2.txt')\n",
    "print(file_path)\n",
    "\n",
    "s = readNeaSpectrumNew(file_path)\n",
    "print(list(s.keys()))\n",
    "print(list(s.values()))\n",
    "print(s.TargetWavelength)"
   ]
  }
 ],
 "metadata": {
  "kernelspec": {
   "display_name": "Python 3",
   "language": "python",
   "name": "python3"
  },
  "language_info": {
   "codemirror_mode": {
    "name": "ipython",
    "version": 3
   },
   "file_extension": ".py",
   "mimetype": "text/x-python",
   "name": "python",
   "nbconvert_exporter": "python",
   "pygments_lexer": "ipython3",
   "version": "3.12.0"
  }
 },
 "nbformat": 4,
 "nbformat_minor": 2
}
