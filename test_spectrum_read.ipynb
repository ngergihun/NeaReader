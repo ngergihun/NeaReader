{
 "cells": [
  {
   "cell_type": "code",
   "execution_count": 5,
   "metadata": {},
   "outputs": [],
   "source": [
    "import numpy as np"
   ]
  },
  {
   "cell_type": "code",
   "execution_count": 1,
   "metadata": {},
   "outputs": [],
   "source": [
    "def readNeaSpectrumNew(filename):\n",
    "    # reader tested for neascan version 2.1.10719.0\n",
    "    fid = open(filename,errors='replace')\n",
    "    spectrum = {}\n",
    "\n",
    "    linestring = ''\n",
    "    Nlines = 0\n",
    "\n",
    "    while 'Version:' not in linestring:\n",
    "        Nlines += 1\n",
    "        linestring = fid.readline()\n",
    "        if Nlines > 1:\n",
    "            ct = linestring.split('\\t')\n",
    "            fieldname = ct[0][2:-1]\n",
    "            fieldname = fieldname.replace(' ', '')\n",
    "\n",
    "            if 'Scanner Center Position' in linestring:\n",
    "                fieldname = fieldname[:-5]\n",
    "                spectrum[fieldname] = [float(ct[2]), float(ct[3])]\n",
    "\n",
    "            elif 'Scan Area' in linestring:\n",
    "                fieldname = fieldname[:-7]\n",
    "                spectrum[fieldname] = [float(ct[2]), float(ct[3]), float(ct[4])]\n",
    "\n",
    "            elif 'Pixel Area' in linestring:\n",
    "                fieldname = fieldname[:-7]\n",
    "                spectrum[fieldname] = [int(ct[2]), int(ct[3]), int(ct[4])]\n",
    "\n",
    "            elif 'Interferometer Center/Distance' in linestring:\n",
    "                fieldname = fieldname.replace('/', '')\n",
    "                spectrum[fieldname] = [float(ct[2]), float(ct[3])]\n",
    "\n",
    "            elif 'Regulator' in linestring:\n",
    "                fieldname = fieldname[:-7]\n",
    "                spectrum[fieldname] = [float(ct[2]), float(ct[3]), float(ct[4])]\n",
    "\n",
    "            elif 'Q-Factor' in linestring:\n",
    "                fieldname = fieldname.replace('-', '')\n",
    "                spectrum[fieldname] = float(ct[2])\n",
    "\n",
    "            else:\n",
    "                fieldname = ct[0][2:-1]\n",
    "                fieldname = fieldname.replace(' ', '')\n",
    "                if ct[2].isnumeric():\n",
    "                    spectrum[fieldname] = float(ct[2])\n",
    "                else:\n",
    "                    spectrum[fieldname] = ct[2].strip()\n",
    "\n",
    "    linestring = fid.readline()\n",
    "    channels = linestring.split('\\t')\n",
    "    Nlines += 1\n",
    "    fid.close()\n",
    "\n",
    "    C_data = np.loadtxt(filename, skiprows=Nlines)\n",
    "\n",
    "    for i in range(len(channels)-2):\n",
    "        if spectrum['PixelArea'][1] == 1:\n",
    "            spectrum[channels[i]] = np.reshape(C_data[:,i], (spectrum['PixelArea'][2]*2, spectrum['PixelArea'][0]))\n",
    "        else:\n",
    "            spectrum[channels[i]] = np.reshape(C_data[:,i], (spectrum['PixelArea'][0], spectrum['PixelArea'][1], spectrum['PixelArea'][2]*2))\n",
    "\n",
    "\n",
    "    return spectrum\n"
   ]
  },
  {
   "cell_type": "code",
   "execution_count": 2,
   "metadata": {},
   "outputs": [
    {
     "name": "stdout",
     "output_type": "stream",
     "text": [
      "c:\\Users\\ngerg\\OneDrive\\Python\\NeaReader\\testspectrum.txt\n"
     ]
    }
   ],
   "source": [
    "import os\n",
    "current_folder = os.getcwd()\n",
    "file_path = os.path.join(current_folder,'testspectrum.txt')\n",
    "print(file_path)"
   ]
  },
  {
   "cell_type": "code",
   "execution_count": 6,
   "metadata": {},
   "outputs": [
    {
     "name": "stdout",
     "output_type": "stream",
     "text": [
      "['Scan', 'Project', 'Description', 'Date', 'ScannerCenterPosition', 'Rotation', 'ScanArea', 'PixelArea', 'InterferometerCenterDistance', 'Averaging', 'Integrationtime', 'WavenumberScaling', 'LaserSource', 'Detector', 'TargetWavelength', 'DemodulationMode', 'TipFrequency', 'TipAmplitude', 'TappingAmplitude', 'ModulationFrequency', 'ModulationAmplitude', 'ModulationOffset', 'Setpoint', 'Regulator', 'TipPotential', 'M1AScaling', 'M1ACantileverFactor', 'QFactor', 'Version', 'Row', 'Column', 'Omega', 'Wavenumber', 'O0A', 'O0P', 'O1A', 'O1P', 'O2A', 'O2P', 'O3A', 'O3P', 'O4A', 'O4P', 'O5A']\n",
      "['Fourier Scan', 'Interferogram Tests', 'Gold_SiO2_IFGshift_center650_ref', '03/17/2023 16:59:48', [50.0, 50.0], 0.0, [0.0, 0.0, 0.0], [1, 1, 2048], [400.0, 800.0], 8.0, 13.0, '1.003656', '', 'R', '', 'Fourier', '246,794.641', '54.700', '100.168', '0.000', '0.000', '0.000', '80.00', [2.507512, 3.395358, 1.0], '0.000', '1.520', '0.000', 779.5, '1.10.9992.1', array([[0.],\n",
      "       [0.],\n",
      "       [0.],\n",
      "       ...,\n",
      "       [0.],\n",
      "       [0.],\n",
      "       [0.]]), array([[0.],\n",
      "       [0.],\n",
      "       [0.],\n",
      "       ...,\n",
      "       [0.],\n",
      "       [0.],\n",
      "       [0.]]), array([[0.000e+00],\n",
      "       [1.000e+00],\n",
      "       [2.000e+00],\n",
      "       ...,\n",
      "       [4.093e+03],\n",
      "       [4.094e+03],\n",
      "       [4.095e+03]]), array([[0.00000000e+00],\n",
      "       [1.56821251e+00],\n",
      "       [3.13642502e+00],\n",
      "       ...,\n",
      "       [6.41869381e+03],\n",
      "       [6.42026202e+03],\n",
      "       [6.42183023e+03]]), array([[19.896286 ],\n",
      "       [14.171828 ],\n",
      "       [ 1.2634301],\n",
      "       ...,\n",
      "       [ 9.110482 ],\n",
      "       [12.199828 ],\n",
      "       [14.282093 ]]), array([[ 3.1415927 ],\n",
      "       [ 2.239995  ],\n",
      "       [-1.2315493 ],\n",
      "       ...,\n",
      "       [-0.39895302],\n",
      "       [-1.2287369 ],\n",
      "       [-2.1651168 ]]), array([[ 3.7416773 ],\n",
      "       [ 7.81653   ],\n",
      "       [12.497546  ],\n",
      "       ...,\n",
      "       [ 0.5387306 ],\n",
      "       [ 0.4118514 ],\n",
      "       [ 0.22654176]]), array([[-3.141592  ],\n",
      "       [ 1.2004517 ],\n",
      "       [ 0.13436925],\n",
      "       ...,\n",
      "       [ 1.0501018 ],\n",
      "       [ 0.10133635],\n",
      "       [-0.9069731 ]]), array([[1.0797622 ],\n",
      "       [2.5639942 ],\n",
      "       [4.245679  ],\n",
      "       ...,\n",
      "       [0.09000605],\n",
      "       [0.07802906],\n",
      "       [0.05646624]]), array([[-1.1911188e-09],\n",
      "       [-2.0540633e+00],\n",
      "       [ 3.1283069e+00],\n",
      "       ...,\n",
      "       [-9.7328390e-01],\n",
      "       [-1.9920052e+00],\n",
      "       [-2.7905374e+00]]), array([[0.8044703 ],\n",
      "       [1.4980928 ],\n",
      "       [2.3590455 ],\n",
      "       ...,\n",
      "       [0.19172783],\n",
      "       [0.18501812],\n",
      "       [0.16526943]]), array([[ 3.4135176e-08],\n",
      "       [-1.9249970e+00],\n",
      "       [-3.0715048e+00],\n",
      "       ...,\n",
      "       [ 1.8728263e+00],\n",
      "       [ 1.1309313e+00],\n",
      "       [ 4.9944510e-01]]), array([[0.38370413],\n",
      "       [0.89854825],\n",
      "       [1.4831562 ],\n",
      "       ...,\n",
      "       [0.18892781],\n",
      "       [0.1572949 ],\n",
      "       [0.12692267]]), array([[-3.1415925 ],\n",
      "       [ 1.0510715 ],\n",
      "       [-0.09812766],\n",
      "       ...,\n",
      "       [-1.4006767 ],\n",
      "       [-2.0961595 ],\n",
      "       [-2.6912947 ]]), array([[0.00226712],\n",
      "       [0.00249601],\n",
      "       [0.00301973],\n",
      "       ...,\n",
      "       [0.00377258],\n",
      "       [0.00197672],\n",
      "       [0.00219292]])]\n"
     ]
    }
   ],
   "source": [
    "s = readNeaSpectrumNew(file_path)\n",
    "print(list(s.keys()))\n",
    "print(list(s.values()))"
   ]
  },
  {
   "cell_type": "code",
   "execution_count": 26,
   "metadata": {},
   "outputs": [
    {
     "name": "stdout",
     "output_type": "stream",
     "text": [
      "[2.507512, 3.395358, 1.0]\n"
     ]
    }
   ],
   "source": [
    "print(s[\"Regulator\"])"
   ]
  }
 ],
 "metadata": {
  "kernelspec": {
   "display_name": "Python 3",
   "language": "python",
   "name": "python3"
  },
  "language_info": {
   "codemirror_mode": {
    "name": "ipython",
    "version": 3
   },
   "file_extension": ".py",
   "mimetype": "text/x-python",
   "name": "python",
   "nbconvert_exporter": "python",
   "pygments_lexer": "ipython3",
   "version": "3.11.4"
  }
 },
 "nbformat": 4,
 "nbformat_minor": 2
}
